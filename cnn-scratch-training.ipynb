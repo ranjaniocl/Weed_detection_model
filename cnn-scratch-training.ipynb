{
 "cells": [
  {
   "cell_type": "code",
   "execution_count": 24,
   "metadata": {},
   "outputs": [],
   "source": [
    "#Load libraries\n",
    "# Note 1 - This code is to import all of the libraries needed for the coding of a CNN, \n",
    "import os #interact with operating system\n",
    "import numpy as np #numpy arrays\n",
    "import torch #PyTorch tensors\n",
    "import glob #useful in list of files\n",
    "import torch.nn as nn #import main neural network libraries\n",
    "from torchvision.transforms import transforms #transform input images of crops and weeds\n",
    "from torch.utils.data import DataLoader #Load the data from local computer\n",
    "from torch.optim import Adam #Optimization algorithms, loss function\n",
    "from torch.autograd import Variable #calculate gradients for backward propogation\n",
    "import torchvision #Used to process images of crops and weeds\n",
    "import pathlib #easier to read files within folder directory"
   ]
  },
  {
   "cell_type": "code",
   "execution_count": 25,
   "metadata": {},
   "outputs": [],
   "source": [
    "#checking for device\n",
    "device=torch.device('cuda' if torch.cuda.is_available() else 'cpu')"
   ]
  },
  {
   "cell_type": "code",
   "execution_count": 26,
   "metadata": {},
   "outputs": [
    {
     "name": "stdout",
     "output_type": "stream",
     "text": [
      "cpu\n"
     ]
    }
   ],
   "source": [
    "print(device)"
   ]
  },
  {
   "cell_type": "code",
   "execution_count": 27,
   "metadata": {},
   "outputs": [],
   "source": [
    "#Transforms\n",
    "# Note2 - This code transforms all of the images in the local computer given to the algorithm from\n",
    "# whatever pixels they are, to 150x150 pixels to make the images easier to classify\n",
    "# makes the RGB 0-255 become 0-1 values\n",
    "#normalize function is used to bring pixel value from -1 to 1, helps CNN learn faster and better\n",
    "transformer=transforms.Compose([\n",
    "    transforms.Resize((150,150)),\n",
    "    transforms.RandomHorizontalFlip(),\n",
    "    transforms.ToTensor(),  #0-255 to 0-1, numpy to tensors\n",
    "    transforms.Normalize([0.5,0.5,0.5], # 0-1 to [-1,1] , formula (x-mean)/std\n",
    "                        [0.5,0.5,0.5])\n",
    "])"
   ]
  },
  {
   "cell_type": "code",
   "execution_count": 30,
   "metadata": {},
   "outputs": [],
   "source": [
    "#Dataloader\n",
    "#Note 3 - This part of the code tells the computer where the files are for training and testing path\n",
    "# Then, the data gets transformed in smaller batch sizes with train in batches of 64 and test in 32\n",
    "\n",
    "#Path for training and testing directory\n",
    "train_path='C:/Users/mojav/OneDrive - Saputo Inc/Self/Pranay/Python/Crop Detection Project/Clean Data/train_data'\n",
    "#'/home/user/Desktop/pytorch_projects/scene_detection/seg_train/seg_train'\n",
    "test_path='C:/Users/mojav/OneDrive - Saputo Inc/Self/Pranay/Python/Crop Detection Project/Clean Data/test_data'\n",
    "\n",
    "train_loader=DataLoader(\n",
    "    torchvision.datasets.ImageFolder(train_path,transform=transformer),\n",
    "    batch_size=64, shuffle=True\n",
    ")\n",
    "test_loader=DataLoader(\n",
    "    torchvision.datasets.ImageFolder(test_path,transform=transformer),\n",
    "    batch_size=32, shuffle=True\n",
    ")"
   ]
  },
  {
   "cell_type": "code",
   "execution_count": 31,
   "metadata": {},
   "outputs": [],
   "source": [
    "#categories, get the 2 output classes from the directory names\n",
    "root=pathlib.Path(train_path)\n",
    "classes=sorted([j.name.split('/')[-1] for j in root.iterdir()])"
   ]
  },
  {
   "cell_type": "code",
   "execution_count": 32,
   "metadata": {},
   "outputs": [
    {
     "name": "stdout",
     "output_type": "stream",
     "text": [
      "['crop', 'weed']\n"
     ]
    }
   ],
   "source": [
    "print(classes)"
   ]
  },
  {
   "cell_type": "code",
   "execution_count": 33,
   "metadata": {},
   "outputs": [],
   "source": [
    "#CNN Network\n",
    "#Note 4 - This part of the code is where all of the layers of the CNN is made in order to have a good\n",
    "# accuracy for showing whether the image is a weed or a crop, there are 3 layers of 12, 20 , 32 channels\n",
    "#I also used relu function for non-linearity \n",
    "\n",
    "class ConvNet(nn.Module):\n",
    "    def __init__(self,num_classes=2):\n",
    "        super(ConvNet,self).__init__()\n",
    "        \n",
    "        #Output size after convolution filter\n",
    "        #((w-f+2P)/s) +1\n",
    "        \n",
    "        #Input shape= (256,3,150,150)\n",
    "        \n",
    "        self.conv1=nn.Conv2d(in_channels=3,out_channels=12,kernel_size=3,stride=1,padding=1)\n",
    "        #Shape= (256,12,150,150)\n",
    "        self.bn1=nn.BatchNorm2d(num_features=12)\n",
    "        #Shape= (256,12,150,150)\n",
    "        self.relu1=nn.ReLU()\n",
    "        #Shape= (256,12,150,150)\n",
    "        \n",
    "        self.pool=nn.MaxPool2d(kernel_size=2)\n",
    "        #Reduce the image size be factor 2\n",
    "        #Shape= (256,12,75,75)\n",
    "        \n",
    "        \n",
    "        self.conv2=nn.Conv2d(in_channels=12,out_channels=20,kernel_size=3,stride=1,padding=1)\n",
    "        #Shape= (256,20,75,75)\n",
    "        self.relu2=nn.ReLU()\n",
    "        #Shape= (256,20,75,75)\n",
    "        \n",
    "        \n",
    "        \n",
    "        self.conv3=nn.Conv2d(in_channels=20,out_channels=32,kernel_size=3,stride=1,padding=1)\n",
    "        #Shape= (256,32,75,75)\n",
    "        self.bn3=nn.BatchNorm2d(num_features=32)\n",
    "        #Shape= (256,32,75,75)\n",
    "        self.relu3=nn.ReLU()\n",
    "        #Shape= (256,32,75,75)\n",
    "        \n",
    "        \n",
    "        self.fc=nn.Linear(in_features=75 * 75 * 32,out_features=num_classes)\n",
    "        \n",
    "        \n",
    "        \n",
    "        #Feed forward function\n",
    "        #Note 5 - This subsection of the code is creating a forward function for CNN.\n",
    "        #this is the outputs for all of the layers made above, \n",
    "        #this is in matrix form of 256,32,75,75 this makes the outputs of the inputs above\n",
    "        \n",
    "    def forward(self,input):\n",
    "        output=self.conv1(input)\n",
    "        output=self.bn1(output)\n",
    "        output=self.relu1(output)\n",
    "            \n",
    "        output=self.pool(output)\n",
    "            \n",
    "        output=self.conv2(output)\n",
    "        output=self.relu2(output)\n",
    "            \n",
    "        output=self.conv3(output)\n",
    "        output=self.bn3(output)\n",
    "        output=self.relu3(output)\n",
    "            \n",
    "            \n",
    "            #Above output will be in matrix form, with shape (256,32,75,75)\n",
    "            \n",
    "        output=output.view(-1,32*75*75)\n",
    "            \n",
    "            \n",
    "        output=self.fc(output)\n",
    "            \n",
    "        return output\n",
    "            \n",
    "        \n"
   ]
  },
  {
   "cell_type": "code",
   "execution_count": 34,
   "metadata": {},
   "outputs": [],
   "source": [
    "model=ConvNet(num_classes=2).to(device)"
   ]
  },
  {
   "cell_type": "code",
   "execution_count": 35,
   "metadata": {},
   "outputs": [],
   "source": [
    "#Optmizer and loss function\n",
    "#Note 6 - This is the data optimizer with weights and loss functions in order to create a stronger model\n",
    "# the loss function accurately shows how well the algorithm models the dataset. \n",
    "#CrossEntropyLoss is often used for CNN image detection\n",
    "optimizer=Adam(model.parameters(),lr=0.001,weight_decay=0.0001)\n",
    "loss_function=nn.CrossEntropyLoss()"
   ]
  },
  {
   "cell_type": "code",
   "execution_count": 36,
   "metadata": {},
   "outputs": [],
   "source": [
    "# Notes 7 - There are 10 epochs to see how well the data runs in some different weights, \n",
    "# the rule of thumb is at least 3x the number of columns, and this is a bit over because the accuracy \n",
    "#was becoming better with more and more epochs\n",
    "num_epochs=10"
   ]
  },
  {
   "cell_type": "code",
   "execution_count": 37,
   "metadata": {},
   "outputs": [],
   "source": [
    "#calculating the size of training and testing images\n",
    "train_count=len(glob.glob(train_path+'/**/*.jpeg'))\n",
    "test_count=len(glob.glob(test_path+'/**/*.jpeg'))"
   ]
  },
  {
   "cell_type": "code",
   "execution_count": 38,
   "metadata": {},
   "outputs": [
    {
     "name": "stdout",
     "output_type": "stream",
     "text": [
      "908 380\n"
     ]
    }
   ],
   "source": [
    "print(train_count,test_count)"
   ]
  },
  {
   "cell_type": "code",
   "execution_count": 39,
   "metadata": {},
   "outputs": [
    {
     "name": "stdout",
     "output_type": "stream",
     "text": [
      "Epoch: 0 Train Loss: tensor(4.6150) Train Accuracy: 0.7830396475770925 Test Accuracy: 0.49473684210526314\n",
      "Epoch: 1 Train Loss: tensor(1.5577) Train Accuracy: 0.8678414096916299 Test Accuracy: 0.5842105263157895\n",
      "Epoch: 2 Train Loss: tensor(0.5809) Train Accuracy: 0.9504405286343612 Test Accuracy: 0.7894736842105263\n",
      "Epoch: 3 Train Loss: tensor(0.3259) Train Accuracy: 0.9548458149779736 Test Accuracy: 0.9105263157894737\n",
      "Epoch: 4 Train Loss: tensor(0.4288) Train Accuracy: 0.9625550660792952 Test Accuracy: 0.8947368421052632\n",
      "Epoch: 5 Train Loss: tensor(1.7144) Train Accuracy: 0.8942731277533039 Test Accuracy: 0.8947368421052632\n",
      "Epoch: 6 Train Loss: tensor(0.6590) Train Accuracy: 0.9570484581497798 Test Accuracy: 0.8368421052631579\n",
      "Epoch: 7 Train Loss: tensor(0.2394) Train Accuracy: 0.9790748898678414 Test Accuracy: 0.9026315789473685\n",
      "Epoch: 8 Train Loss: tensor(0.3061) Train Accuracy: 0.9834801762114538 Test Accuracy: 0.9210526315789473\n",
      "Epoch: 9 Train Loss: tensor(0.3475) Train Accuracy: 0.9823788546255506 Test Accuracy: 0.9421052631578948\n"
     ]
    }
   ],
   "source": [
    "#Model training and saving best model\n",
    "#Note 8 -  In this part we are putting everything together to train the model and test it\n",
    "# We are doing a 'for' loop for 10 epochs to carryout loading of images, forward function, loss \n",
    "#calculation and backward propogation\n",
    "# we are also calculating training and testing accuracy for each epoch. The model with best \n",
    "# accuracy is saved as 'best_checkpoint.model' which we will use later to predict new images\n",
    "\n",
    "best_accuracy=0.0\n",
    "\n",
    "for epoch in range(num_epochs):\n",
    "    \n",
    "    #Evaluation and training on training dataset\n",
    "    model.train()\n",
    "    train_accuracy=0.0\n",
    "    train_loss=0.0\n",
    "    \n",
    "    for i, (images,labels) in enumerate(train_loader):\n",
    "        if torch.cuda.is_available():\n",
    "            images=Variable(images.cuda())\n",
    "            labels=Variable(labels.cuda())\n",
    "            \n",
    "        optimizer.zero_grad()\n",
    "        \n",
    "        outputs=model(images)\n",
    "        loss=loss_function(outputs,labels)\n",
    "        loss.backward()\n",
    "        optimizer.step()\n",
    "        \n",
    "        \n",
    "        train_loss+= loss.cpu().data*images.size(0)\n",
    "        _,prediction=torch.max(outputs.data,1)\n",
    "        \n",
    "        train_accuracy+=int(torch.sum(prediction==labels.data))\n",
    "        \n",
    "    train_accuracy=train_accuracy/train_count\n",
    "    train_loss=train_loss/train_count\n",
    "    \n",
    "    \n",
    "    # Evaluation on testing dataset\n",
    "    model.eval()\n",
    "    \n",
    "    test_accuracy=0.0\n",
    "    for i, (images,labels) in enumerate(test_loader):\n",
    "        if torch.cuda.is_available():\n",
    "            images=Variable(images.cuda())\n",
    "            labels=Variable(labels.cuda())\n",
    "            \n",
    "        outputs=model(images)\n",
    "        _,prediction=torch.max(outputs.data,1)\n",
    "        test_accuracy+=int(torch.sum(prediction==labels.data))\n",
    "    \n",
    "    test_accuracy=test_accuracy/test_count\n",
    "    \n",
    "    \n",
    "    print('Epoch: '+str(epoch)+' Train Loss: '+str(train_loss)+' Train Accuracy: '+str(train_accuracy)+' Test Accuracy: '+str(test_accuracy))\n",
    "    \n",
    "    #Save the best model\n",
    "    if test_accuracy>best_accuracy:\n",
    "        torch.save(model.state_dict(),'best_checkpoint.model')\n",
    "        best_accuracy=test_accuracy\n",
    "    \n",
    "       \n"
   ]
  }
 ],
 "metadata": {
  "kernelspec": {
   "display_name": "Python 3 (ipykernel)",
   "language": "python",
   "name": "python3"
  },
  "language_info": {
   "codemirror_mode": {
    "name": "ipython",
    "version": 3
   },
   "file_extension": ".py",
   "mimetype": "text/x-python",
   "name": "python",
   "nbconvert_exporter": "python",
   "pygments_lexer": "ipython3",
   "version": "3.9.12"
  }
 },
 "nbformat": 4,
 "nbformat_minor": 2
}
